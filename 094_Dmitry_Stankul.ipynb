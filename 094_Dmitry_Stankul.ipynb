{
  "nbformat": 4,
  "nbformat_minor": 0,
  "metadata": {
    "colab": {
      "name": "raiffeisen.ipynb",
      "version": "0.3.2",
      "views": {},
      "default_view": {},
      "provenance": [],
      "toc_visible": true
    },
    "kernelspec": {
      "name": "python3",
      "display_name": "Python 3"
    }
  },
  "cells": [
    {
      "metadata": {
        "id": "yAN7u3hheYGl",
        "colab_type": "text"
      },
      "cell_type": "markdown",
      "source": [
        "# [Raiffeisen Data Cup](https://boosters.pro/champ_11)\n",
        "\n",
        "Клиенты Райффайзенбанка совершают покупки и снимают наличные в банкоматах с помощью карточек. Получив в виде обезличенных данных их историю транзакций, информацию о мерчантах (место, позволяющее принимать платежи с использованием банковской пластиковой карты), участники чемпионата должны предсказать две пары координат: дом и работу клиента. Оценкой качества решения в задаче является процент попаданий в окружность радиуса 0.02 градуса относительно реальных координат дома и работы."
      ]
    },
    {
      "metadata": {
        "id": "At6AYNqWe5nH",
        "colab_type": "text"
      },
      "cell_type": "markdown",
      "source": [
        "# Loading Stuff"
      ]
    },
    {
      "metadata": {
        "id": "KQAK1jtQb9cG",
        "colab_type": "code",
        "colab": {
          "autoexec": {
            "startup": false,
            "wait_interval": 0
          }
        }
      },
      "cell_type": "code",
      "source": [
        "!pip install -q lightgbm\n",
        "import pandas as pd\n",
        "import numpy as np\n",
        "import datetime\n",
        "from lightgbm import LGBMClassifier\n",
        "import sklearn\n",
        "\n",
        "from sklearn.model_selection import train_test_split"
      ],
      "execution_count": 0,
      "outputs": []
    },
    {
      "metadata": {
        "id": "dVT0fC7GcMyE",
        "colab_type": "code",
        "colab": {
          "autoexec": {
            "startup": false,
            "wait_interval": 0
          },
          "output_extras": [
            {
              "item_id": 2
            }
          ],
          "base_uri": "https://localhost:8080/",
          "height": 105
        },
        "outputId": "c3132292-7146-4ead-f338-d70aa7b9dc59",
        "executionInfo": {
          "status": "ok",
          "timestamp": 1521796343871,
          "user_tz": -180,
          "elapsed": 9368,
          "user": {
            "displayName": "Dmitry Stankul",
            "photoUrl": "//lh4.googleusercontent.com/-2dEEJneHUUI/AAAAAAAAAAI/AAAAAAAAAFg/Nx-ejOOu-eY/s50-c-k-no/photo.jpg",
            "userId": "105729310876654603167"
          }
        }
      },
      "cell_type": "code",
      "source": [
        "df = pd.read_csv('train.csv')\n",
        "df.rename(columns={\"pos_adress_lat\": \"pos_address_lat\",\"pos_adress_lon\": \"pos_address_lon\"}, inplace=True)\n",
        "df_test = pd.read_csv('test.csv')\n",
        "\n",
        "df['is_train'] = np.int32(1)\n",
        "df_test['is_train'] = np.int32(0)\n",
        "dt_init = pd.concat([df, df_test])"
      ],
      "execution_count": 4,
      "outputs": [
        {
          "output_type": "stream",
          "text": [
            "/usr/local/lib/python3.6/dist-packages/IPython/core/interactiveshell.py:2718: DtypeWarning: Columns (1,11) have mixed types. Specify dtype option on import or set low_memory=False.\n",
            "  interactivity=interactivity, compiler=compiler, result=result)\n",
            "/usr/local/lib/python3.6/dist-packages/IPython/core/interactiveshell.py:2718: DtypeWarning: Columns (1,8,9) have mixed types. Specify dtype option on import or set low_memory=False.\n",
            "  interactivity=interactivity, compiler=compiler, result=result)\n"
          ],
          "name": "stderr"
        }
      ]
    },
    {
      "metadata": {
        "id": "gRGfoqGo2fyQ",
        "colab_type": "code",
        "colab": {
          "autoexec": {
            "startup": false,
            "wait_interval": 0
          }
        }
      },
      "cell_type": "code",
      "source": [
        "submission = pd.DataFrame(df_test['customer_id'].unique(), columns = ['_ID_'])"
      ],
      "execution_count": 0,
      "outputs": []
    },
    {
      "metadata": {
        "id": "BZjdcjg1Ubzv",
        "colab_type": "text"
      },
      "cell_type": "markdown",
      "source": [
        "# Data Cleaning\n",
        "\n",
        "- У заграничных транзакций нет ни адреса, ни координат; у некоторых есть координаты дома/работы, но этот список не пересекается со списком транзакций без указания координат работы — их нужно дропнуть\n",
        "- Поскольку atm_address(_lat,_lon) и pos_address(_lat, _lon) не пересекаются, можно скопировать atm_address в pos_address и добавить признак is_atm"
      ]
    },
    {
      "metadata": {
        "id": "VMKTtrdhTb2W",
        "colab_type": "code",
        "colab": {
          "autoexec": {
            "startup": false,
            "wait_interval": 0
          }
        }
      },
      "cell_type": "code",
      "source": [
        "def clean(df_orig):\n",
        "  # unify_address\n",
        "  df = df_orig.copy()\n",
        "  atm = df.atm_address_lat.notnull()\n",
        "  df['is_atm'] = np.zeros(len(df), dtype=int)\n",
        "  df.loc[atm, 'is_atm'] = 1\n",
        "  df.loc[atm, 'pos_address_lat'] = df[atm].atm_address_lat\n",
        "  df.loc[atm, 'pos_address_lon'] = df[atm].atm_address_lon\n",
        "  df.loc[df.atm_address.notnull(), 'pos_address'] = df[df.atm_address.notnull()].atm_address\n",
        "  df.drop(['atm_address', 'atm_address_lat', 'atm_address_lon'], axis=1, inplace=True)\n",
        "  \n",
        "  \n",
        "  # fix country\n",
        "  df.loc[df.country == 'RU', 'country'] = 'RUS'\n",
        "  df.loc[df.country == 'RU ', 'country'] = 'RUS'\n",
        "  \n",
        "  # drop missing\n",
        "  df.drop(df.index[df.pos_address_lat.isnull()], inplace=True)\n",
        "  df.drop(df.index[df.terminal_id.isnull()], inplace=True)\n",
        "  df.drop(df.index[df.transaction_date.isnull()], inplace=True)\n",
        "  \n",
        "  def clean_mcc(mcc):\n",
        "    if type(mcc) == int:\n",
        "        return mcc\n",
        "    mcc = mcc.split(',')\n",
        "    if len(mcc) == 1:\n",
        "        return int(mcc[0])\n",
        "    else:\n",
        "        return 1000*int(mcc[0]) + int(mcc[1])\n",
        "  df['mcc'] = df['mcc'].apply(clean_mcc)\n",
        "   \n",
        "  return df\n",
        "  \n",
        "\n",
        "dt_clean = clean(dt_init)"
      ],
      "execution_count": 0,
      "outputs": []
    },
    {
      "metadata": {
        "id": "dKApq4rxCmir",
        "colab_type": "text"
      },
      "cell_type": "markdown",
      "source": [
        "# Feature Engineering\n",
        "\n",
        "### Идеи\n",
        "\n",
        "- [ ] нормализовать города\n",
        "- [x] groupby(cid, [lon, lat, mcc, mcc_group, terminal_id])\n",
        "- [x] почистить данные по координатам\n",
        "- [x] даты: выходные, праздники, дни недели\n",
        "- [ ] предсказывание координаты/расстояния\n",
        "- [x] аггрегирование признаков по cid\n",
        "- [x] аггрегирование предсказаний для клиента\n",
        "- [x] доля чекинов в данном терминале\n",
        "- [x] доля чекинов в выходные\n",
        "\n",
        "Не зашло:\n",
        "\n",
        "- замена pos_terminal_lat/lon на медиану/среднее по terminal_id\n",
        "- разные вариации на тему среднего чека\n",
        "- разные вариации на тему расстояния до медианной/средней точки\n",
        "- доля транзакций в данном городе"
      ]
    },
    {
      "metadata": {
        "id": "9sdOHw4XXBxY",
        "colab_type": "code",
        "colab": {
          "autoexec": {
            "startup": false,
            "wait_interval": 0
          }
        }
      },
      "cell_type": "code",
      "source": [
        "def features(dt_orig):\n",
        "  dt = dt_orig.copy()\n",
        "  # Deal with categorial features\n",
        "  dt['city'] = dt['city'].factorize()[0].astype(np.int32)\n",
        "  dt['country'] = dt['country'].factorize()[0].astype(np.int32)\n",
        "  dt['address'] = dt['pos_address_lat'].apply(lambda x: \"%.02f\" % x) + ';' + dt['pos_address_lon'].apply(lambda x: \"%.02f\" % x)\n",
        "  dt['address'] = dt['address'].factorize()[0].astype(np.int32)\n",
        "  \n",
        "  # Add is_home and is_work target\n",
        "  lat = dt['home_add_lat'] - dt['pos_address_lat']\n",
        "  lon = dt['home_add_lon'] - dt['pos_address_lon']\n",
        "  dt['is_home'] = (np.sqrt((lat ** 2) + (lon ** 2)) <= 0.02).astype(np.int32)\n",
        "  dt['has_home'] = (~dt['home_add_lon'].isnull()).astype(np.int32)\n",
        "\n",
        "  lat = dt['work_add_lat'] - dt['pos_address_lat']\n",
        "  lon = dt['work_add_lon'] - dt['pos_address_lon']\n",
        "  dt['is_work'] = (np.sqrt((lat ** 2) + (lon ** 2)) <= 0.02).astype(np.int32)\n",
        "  dt['has_work'] = (~dt['work_add_lon'].isnull()).astype(np.int32)\n",
        "  \n",
        "  # количество транзакций каждого клиента\n",
        "  dt = dt.merge(dt.groupby('customer_id')['amount'].count().reset_index(name = 'tx'), how = 'left')\n",
        "  dt['tx'] = dt['tx'].astype(np.int32)\n",
        "\n",
        "  # количество транзакций каждого клиента с данным адресом\n",
        "  dt = dt.merge(dt.groupby(['customer_id','address'])['amount'].count().reset_index(name = 'tx_cust_addr'), how = 'left')\n",
        "  dt['tx_cust_addr'] = dt['tx_cust_addr'].astype(np.int32)\n",
        "\n",
        "  # какая часть транзакций клиента приходится на данный адрес\n",
        "  dt['ratio1'] = dt['tx_cust_addr'] / dt['tx']\n",
        "  \n",
        "  # день недели, выходной/нет\n",
        "  dt['transaction_date'] = dt['transaction_date'].apply(lambda x: datetime.datetime.strptime(x, '%Y-%m-%d'))\n",
        "  dt['weekday'] = dt['transaction_date'].dt.weekday.astype(np.int32)\n",
        "  dt['weekend'] = (dt.weekday >= 5).factorize()[0].astype(np.int32)\n",
        "  \n",
        "  # количество чекинов в выходные данного клиента в данной точке\n",
        "  dt = dt.merge(dt.groupby(['customer_id','address','weekend'])['amount'].count().reset_index(name = 'tx_cust_addr_weekend'), how = 'left')\n",
        "  dt['tx_cust_addr_weekend'] = dt['tx_cust_addr_weekend'].astype(np.int32)\n",
        "  \n",
        "  # какая часть транзакций клиента на данный адрес приходится на выходные\n",
        "  dt['ratio2'] = dt['tx_cust_addr_weekend'] / dt['tx']\n",
        "  dt['ratio3'] = dt['tx_cust_addr_weekend'] / dt['tx_cust_addr']\n",
        "  \n",
        "  # какая часть транзакций клиента приходится на этот город\n",
        "  dt = dt.merge(dt.groupby(['customer_id','city'])['amount'].count().reset_index(name = 'tx_cust_city'), how = 'left')\n",
        "  dt['ratio4'] = dt['tx_cust_city'] / dt['tx']\n",
        "  \n",
        "  # группа кодов mcc\n",
        "  dt['mcc_group'] = dt.mcc // 100\n",
        "  \n",
        "  return dt\n",
        "\n",
        "dt = features(dt_clean)"
      ],
      "execution_count": 0,
      "outputs": []
    },
    {
      "metadata": {
        "id": "9uBzCA7YZzyN",
        "colab_type": "code",
        "colab": {
          "autoexec": {
            "startup": false,
            "wait_interval": 0
          }
        }
      },
      "cell_type": "code",
      "source": [
        "def _best(x):\n",
        "    ret = None\n",
        "    for col in ys:\n",
        "        pred = ('pred:%s' % col)\n",
        "        if pred in x:\n",
        "            i = (x[pred].idxmax())\n",
        "            cols = [pred,'pos_address_lat','pos_address_lon']\n",
        "            if col in x:\n",
        "                cols.append(col)\n",
        "            tmp = x.loc[i,cols]\n",
        "            tmp.rename({\n",
        "                'pos_address_lat':'%s:add_lat' % col,\n",
        "                'pos_address_lon':'%s:add_lon' % col,\n",
        "            }, inplace = True)\n",
        "            if ret is None:\n",
        "                ret = tmp\n",
        "            else:\n",
        "                ret = pd.concat([ret, tmp])\n",
        "    return ret\n",
        "  \n",
        "def predict_proba(dt, ys = ['is_home', 'is_work']):\n",
        "    for col in ys:\n",
        "        pred = ('pred:%s' % col)\n",
        "        dt[pred] = model[col].predict_proba(dt[xs])[:,1]\n",
        "    return dt.groupby('customer_id').apply(_best).reset_index()\n",
        "  \n",
        "def score(dt, ys = ['is_home', 'is_work']):\n",
        "    dt_ret = predict_proba(dt, ys)\n",
        "    mean = 0.0\n",
        "    for col in ys:\n",
        "        col_mean = dt_ret[col].mean()\n",
        "        mean += col_mean\n",
        "    if len(ys) == 2:\n",
        "        mean = mean / len(ys)\n",
        "    return mean"
      ],
      "execution_count": 0,
      "outputs": []
    },
    {
      "metadata": {
        "id": "RcrkSJ17-irR",
        "colab_type": "text"
      },
      "cell_type": "markdown",
      "source": [
        "# LGBM"
      ]
    },
    {
      "metadata": {
        "id": "2-SxeriwT-wF",
        "colab_type": "code",
        "colab": {
          "autoexec": {
            "startup": false,
            "wait_interval": 0
          },
          "output_extras": [
            {
              "item_id": 26
            }
          ],
          "base_uri": "https://localhost:8080/",
          "height": 493
        },
        "outputId": "a374f9bc-47c7-49da-a6e3-3b38988d5809",
        "executionInfo": {
          "status": "ok",
          "timestamp": 1521806470650,
          "user_tz": -180,
          "elapsed": 57107,
          "user": {
            "displayName": "Dmitry Stankul",
            "photoUrl": "//lh4.googleusercontent.com/-2dEEJneHUUI/AAAAAAAAAAI/AAAAAAAAAFg/Nx-ejOOu-eY/s50-c-k-no/photo.jpg",
            "userId": "105729310876654603167"
          }
        }
      },
      "cell_type": "code",
      "source": [
        "xs = ['amount','currency','city','country','mcc','is_atm','ratio1','weekday',\n",
        "      'weekend','ratio2','ratio3','mcc_group']\n",
        "ys = ['is_home', 'is_work']\n",
        "\n",
        "model0 = {\n",
        "    'is_home': LGBMClassifier(),\n",
        "    'is_work': LGBMClassifier(),\n",
        "}\n",
        "\n",
        "model = {}\n",
        "\n",
        "# последовательно обучаем два классификатора\n",
        "for col in ['is_home', 'is_work']:\n",
        "    \n",
        "    # выберем для обучения транзакции только тех клиентов из train, у которых хоть в одной транзакции указано место работы/жительства\n",
        "    cust_train = dt[dt['is_train'] == 1].groupby('customer_id')[col.replace('is_','has_')].max()\n",
        "    cust_train = cust_train[cust_train > 0].index\n",
        "    \n",
        "    # разобъем train на train/valid для валидации\n",
        "    cust_train, cust_valid = train_test_split(cust_train, test_size = 0.1, shuffle = True, random_state = 2)\n",
        "    \n",
        "    train = pd.DataFrame(cust_train, columns = ['customer_id']).merge(dt, how = 'left')\n",
        "    valid = pd.DataFrame(cust_valid, columns = ['customer_id']).merge(dt, how = 'left')\n",
        "\n",
        "    print (\"Training:\", col)\n",
        "    clf = sklearn.base.clone(model0[col])\n",
        "    clf.fit(train[xs], train[col], eval_metric = 'logloss', eval_set = [(train[xs], train[col]), (valid[xs], valid[col])], verbose=10)\n",
        "    model[col] = clf\n",
        "    print (\"Train accuracy:\", score(train, ys = [col]))\n",
        "    print (\"Test accuracy:\", score(valid, ys = [col]))\n",
        "    print ()"
      ],
      "execution_count": 134,
      "outputs": [
        {
          "output_type": "stream",
          "text": [
            "Training: is_home\n",
            "[10]\tvalid_0's binary_logloss: 0.501454\tvalid_1's binary_logloss: 0.50261\n",
            "[20]\tvalid_0's binary_logloss: 0.459504\tvalid_1's binary_logloss: 0.463002\n",
            "[30]\tvalid_0's binary_logloss: 0.446354\tvalid_1's binary_logloss: 0.453868\n",
            "[40]\tvalid_0's binary_logloss: 0.440367\tvalid_1's binary_logloss: 0.450772\n",
            "[50]\tvalid_0's binary_logloss: 0.435478\tvalid_1's binary_logloss: 0.44917\n",
            "[60]\tvalid_0's binary_logloss: 0.431784\tvalid_1's binary_logloss: 0.448543\n",
            "[70]\tvalid_0's binary_logloss: 0.428658\tvalid_1's binary_logloss: 0.447849\n",
            "[80]\tvalid_0's binary_logloss: 0.426075\tvalid_1's binary_logloss: 0.447657\n",
            "[90]\tvalid_0's binary_logloss: 0.424233\tvalid_1's binary_logloss: 0.447195\n",
            "[100]\tvalid_0's binary_logloss: 0.421783\tvalid_1's binary_logloss: 0.447114\n",
            "Train accuracy: 0.41788888888888887\n",
            "Test accuracy: 0.403\n",
            "\n",
            "Training: is_work\n",
            "[10]\tvalid_0's binary_logloss: 0.438936\tvalid_1's binary_logloss: 0.45402\n",
            "[20]\tvalid_0's binary_logloss: 0.382058\tvalid_1's binary_logloss: 0.410363\n",
            "[30]\tvalid_0's binary_logloss: 0.36334\tvalid_1's binary_logloss: 0.399486\n",
            "[40]\tvalid_0's binary_logloss: 0.353681\tvalid_1's binary_logloss: 0.397725\n",
            "[50]\tvalid_0's binary_logloss: 0.346907\tvalid_1's binary_logloss: 0.395831\n",
            "[60]\tvalid_0's binary_logloss: 0.340813\tvalid_1's binary_logloss: 0.395995\n",
            "[70]\tvalid_0's binary_logloss: 0.335349\tvalid_1's binary_logloss: 0.395878\n",
            "[80]\tvalid_0's binary_logloss: 0.330739\tvalid_1's binary_logloss: 0.395171\n",
            "[90]\tvalid_0's binary_logloss: 0.3261\tvalid_1's binary_logloss: 0.396049\n",
            "[100]\tvalid_0's binary_logloss: 0.322626\tvalid_1's binary_logloss: 0.396512\n",
            "Train accuracy: 0.3132270573028867\n",
            "Test accuracy: 0.28488372093023256\n",
            "\n"
          ],
          "name": "stdout"
        }
      ]
    },
    {
      "metadata": {
        "id": "o5n1UEVv0za9",
        "colab_type": "code",
        "colab": {
          "autoexec": {
            "startup": false,
            "wait_interval": 0
          }
        }
      },
      "cell_type": "code",
      "source": [
        "cust_test = dt[dt['is_train'] == 0]['customer_id'].unique()\n",
        "test = pd.DataFrame(cust_test, columns = ['customer_id']).merge(dt, how = 'left')\n",
        "test = predict_proba(test)\n",
        "test.rename(columns = {\n",
        "        'customer_id':'_ID_',\n",
        "        'is_home:add_lat': '_HOME_LAT_',\n",
        "        'is_home:add_lon': '_HOME_LON_',\n",
        "        'is_work:add_lat': '_WORK_LAT_',\n",
        "        'is_work:add_lon': '_WORK_LON_'}, inplace = True)\n",
        "test = test[['_ID_', '_WORK_LAT_', '_WORK_LON_', '_HOME_LAT_', '_HOME_LON_']]"
      ],
      "execution_count": 0,
      "outputs": []
    },
    {
      "metadata": {
        "id": "Aerp79Cs029u",
        "colab_type": "code",
        "colab": {
          "autoexec": {
            "startup": false,
            "wait_interval": 0
          }
        }
      },
      "cell_type": "code",
      "source": [
        "\n",
        "# Заполняем пропуски\n",
        "submission2 = submission.merge(test, how = 'left').fillna(0)\n",
        "\n",
        "# Пишем файл submission\n",
        "submission2.to_csv('submission.csv', index = False)"
      ],
      "execution_count": 0,
      "outputs": []
    }
  ]
}